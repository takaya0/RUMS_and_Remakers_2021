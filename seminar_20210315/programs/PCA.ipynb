{
 "cells": [
  {
   "cell_type": "code",
   "execution_count": 197,
   "id": "bibliographic-medicare",
   "metadata": {},
   "outputs": [],
   "source": [
    "import numpy as np\n",
    "from matplotlib import pyplot as plt\n",
    "from sklearn import preprocessing\n",
    "import scipy as sp"
   ]
  },
  {
   "cell_type": "code",
   "execution_count": 41,
   "id": "accepting-worker",
   "metadata": {},
   "outputs": [],
   "source": [
    "def f(x):\n",
    "    return 0.7 * x\n",
    "def get_uniform(a, b, num):\n",
    "    RVs = (b - a) * np.random.rand(num) + a\n",
    "    return RVs"
   ]
  },
  {
   "cell_type": "code",
   "execution_count": 42,
   "id": "regional-prayer",
   "metadata": {},
   "outputs": [],
   "source": [
    "domain = np.arange(0, 5, 0.01) \n",
    "RVs = get_uniform(0, 5, 20)"
   ]
  },
  {
   "cell_type": "code",
   "execution_count": 96,
   "id": "meaningful-caribbean",
   "metadata": {},
   "outputs": [],
   "source": [
    "value = f(RVs) + get_uniform(-0.7, 0.7, 20)"
   ]
  },
  {
   "cell_type": "code",
   "execution_count": 99,
   "id": "toxic-michigan",
   "metadata": {},
   "outputs": [
    {
     "data": {
      "image/png": "[encoded data removed]",
      "text/plain": [
       "<Figure size 432x288 with 1 Axes>"
      ]
     },
     "metadata": {
      "needs_background": "light"
     },
     "output_type": "display_data"
    }
   ],
   "source": [
    "plt.plot(domain, f(domain), color='red')\n",
    "plt.scatter(RVs, value)\n",
    "plt.xlabel(\"x\")\n",
    "plt.ylabel(\"y\")\n",
    "plt.title(\"data and PC1\")\n",
    "plt.savefig(\"../Images/data_pc1.png\")"
   ]
  },
  {
   "cell_type": "code",
   "execution_count": 106,
   "id": "another-bracelet",
   "metadata": {},
   "outputs": [
    {
     "data": {
      "image/png": "[encoded data removed]",
      "text/plain": [
       "<Figure size 432x288 with 1 Axes>"
      ]
     },
     "metadata": {
      "needs_background": "light"
     },
     "output_type": "display_data"
    }
   ],
   "source": [
    "plt.scatter(RVs, value)\n",
    "plt.xlabel(\"x\")\n",
    "plt.ylabel(\"y\")\n",
    "plt.title(\"data\")\n",
    "plt.savefig(\"../Images/data.png\")"
   ]
  },
  {
   "cell_type": "code",
   "execution_count": 121,
   "id": "discrete-guard",
   "metadata": {},
   "outputs": [],
   "source": [
    "data = np.array([RVs, value]).T"
   ]
  },
  {
   "cell_type": "code",
   "execution_count": 123,
   "id": "forward-stadium",
   "metadata": {},
   "outputs": [],
   "source": [
    "data = preprocessing.StandardScaler().fit_transform(data)"
   ]
  },
  {
   "cell_type": "code",
   "execution_count": 237,
   "id": "announced-ratio",
   "metadata": {},
   "outputs": [
    {
     "data": {
      "text/plain": [
       "array([[1.        , 0.91749823],\n",
       "       [0.91749823, 1.        ]])"
      ]
     },
     "execution_count": 237,
     "metadata": {},
     "output_type": "execute_result"
    }
   ],
   "source": [
    "C = np.cov(data.T, bias=True)\n",
    "C"
   ]
  },
  {
   "cell_type": "code",
   "execution_count": 234,
   "id": "sorted-pressure",
   "metadata": {},
   "outputs": [],
   "source": [
    "def objective(X):\n",
    "    res = np.dot(np.dot(X.T, C), X)\n",
    "    return np.trace(res)"
   ]
  },
  {
   "cell_type": "code",
   "execution_count": 235,
   "id": "accessible-cleaners",
   "metadata": {},
   "outputs": [],
   "source": [
    "def Gradient(X):\n",
    "    return -np.dot(C.T + C, X)\n",
    "def Projection(X, Egrad):\n",
    "    def sym(A):\n",
    "        return (A + A.T)/2\n",
    "    return Egrad - X.dot(sym(X.T.dot(Egrad)))\n",
    "def Retraction(X, grad):\n",
    "    I = np.identity(2)\n",
    "    return np.dot(X + grad, np.linalg.inv(sp.linalg.sqrtm(I + np.dot(grad.T, grad))))"
   ]
  },
  {
   "cell_type": "code",
   "execution_count": 236,
   "id": "protecting-blues",
   "metadata": {},
   "outputs": [
    {
     "name": "stdout",
     "output_type": "stream",
     "text": [
      "[[-0.90887053 -0.41707836]\n",
      " [-0.41707836  0.90887053]]\n",
      "[[-0.90887053 -0.41707836]\n",
      " [-0.41707836  0.90887053]]\n",
      "[[-0.90887053 -0.41707836]\n",
      " [-0.41707836  0.90887053]]\n",
      "[[-0.90887053 -0.41707836]\n",
      " [-0.41707836  0.90887053]]\n",
      "[[-0.90887053 -0.41707836]\n",
      " [-0.41707836  0.90887053]]\n",
      "[[-0.90887053 -0.41707836]\n",
      " [-0.41707836  0.90887053]]\n"
     ]
    }
   ],
   "source": [
    "epoch = 5\n",
    "X = np.linalg.qr(np.random.normal(0, 100, (2, 2)))[0]\n",
    "print(X)\n",
    "for _ in range(epoch):\n",
    "    #print(Gradient(X))\n",
    "    Rgrad = Projection(X, Gradient(X))\n",
    "    X = Retraction(X, -0.01 * Rgrad)\n",
    "    print(X)"
   ]
  },
  {
   "cell_type": "code",
   "execution_count": 222,
   "id": "friendly-horse",
   "metadata": {},
   "outputs": [
    {
     "data": {
      "text/plain": [
       "array([[0., 0.],\n",
       "       [0., 0.]])"
      ]
     },
     "execution_count": 222,
     "metadata": {},
     "output_type": "execute_result"
    }
   ],
   "source": [
    "def skew(A):\n",
    "    return 0.5 * (A - A.T)\n",
    "d = np.array([[2, 1.83], [1.83, 2]])\n",
    "skew(d)"
   ]
  },
  {
   "cell_type": "code",
   "execution_count": 192,
   "id": "southern-peninsula",
   "metadata": {},
   "outputs": [
    {
     "data": {
      "text/plain": [
       "(array([[-0.91381155, -0.40613847],\n",
       "        [-0.40613847,  0.91381155]]),\n",
       " array([[-9.8488578 , -6.49821546],\n",
       "        [ 0.        ,  4.77212698]]))"
      ]
     },
     "execution_count": 192,
     "metadata": {},
     "output_type": "execute_result"
    }
   ],
   "source": [
    "X = np.array([[9, 4], [4, 7]])\n",
    "np.linalg.qr(X)"
   ]
  },
  {
   "cell_type": "code",
   "execution_count": null,
   "id": "distributed-bobby",
   "metadata": {},
   "outputs": [],
   "source": []
  }
 ],
 "metadata": {
  "kernelspec": {
   "display_name": "Python 3",
   "language": "python",
   "name": "python3"
  },
  "language_info": {
   "codemirror_mode": {
    "name": "ipython",
    "version": 3
   },
   "file_extension": ".py",
   "mimetype": "text/x-python",
   "name": "python",
   "nbconvert_exporter": "python",
   "pygments_lexer": "ipython3",
   "version": "3.8.7"
  }
 },
 "nbformat": 4,
 "nbformat_minor": 5
}
